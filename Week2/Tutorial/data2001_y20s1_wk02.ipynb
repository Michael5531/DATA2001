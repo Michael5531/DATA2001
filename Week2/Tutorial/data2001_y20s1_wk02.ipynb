{
 "cells": [
  {
   "cell_type": "markdown",
   "metadata": {},
   "source": [
    "# DATA2001 2020 S1 Tutorial Week 02\n",
    "## Data Exploration with Python\n",
    "\n",
    "## Exercise 1. Reading and Accessing a CSV File\n",
    "\n",
    "We start by importing python libraries to read in a .csv file. We then visualise some rows of the data."
   ]
  },
  {
   "cell_type": "markdown",
   "metadata": {},
   "source": [
    "### Using Pandas\n",
    "\n",
    "Pandas is a python data processing and analysis library that greatly eases data accessibility and usability to data sources. You can find more information in the [Week 02 lectures, from Page 15, slide 30](https://canvas.sydney.edu.au/courses/21543/files/9665910?module_item_id=759960).\n",
    "\n",
    "Primarily we will be using pandas to load data from sources such as csv into it's DataFrame data-type.\n",
    "A DataFrame is similar to a table in structure - it has rows indexed like an array. Each row has a list of fields. Each of those fields has a corresponding Heading.\n",
    "\n",
    "We will be using the csv output of our Programming Experience Survey from Week 01.\n",
    "\n",
    "Let's first import the relevant libraries that we require."
   ]
  },
  {
   "cell_type": "code",
   "execution_count": 3,
   "metadata": {},
   "outputs": [],
   "source": [
    "import pandas as pd\n",
    "import numpy as np\n",
    "import matplotlib.pyplot as plt"
   ]
  },
  {
   "cell_type": "code",
   "execution_count": null,
   "metadata": {},
   "outputs": [],
   "source": [
    "Next we will import our CSV file named: 'programming_experience_survery_2020.csv'.\n",
    "\n",
    "To do this in pandas we will use the 'read_csv(*filename*)' function and assigning the result to a new **DataFrame** variable.\n",
    "\n",
    "Once we have imported the data, we can see the 'shape' of our data (how many rows and fields) to check whether what we have loaded is correct.\n",
    "\n",
    "We can also use the 'head' operation of our DataFrame variable to see the first few rows of data."
   ]
  },
  {
   "cell_type": "code",
   "execution_count": 31,
   "metadata": {},
   "outputs": [
    {
     "name": "stdout",
     "output_type": "stream",
     "text": "(263, 10)\n"
    },
    {
     "data": {
      "text/html": "<div>\n<style scoped>\n    .dataframe tbody tr th:only-of-type {\n        vertical-align: middle;\n    }\n\n    .dataframe tbody tr th {\n        vertical-align: top;\n    }\n\n    .dataframe thead th {\n        text-align: right;\n    }\n</style>\n<table border=\"1\" class=\"dataframe\">\n  <thead>\n    <tr style=\"text-align: right;\">\n      <th></th>\n      <th>respondent_id</th>\n      <th>submitted</th>\n      <th>Tutorial Class</th>\n      <th>Degree</th>\n      <th>Programming Experience</th>\n      <th>Experience in Python</th>\n      <th>Used Jupyter Notebooks</th>\n      <th>Other Programming Language Competency</th>\n      <th>SQL Competency</th>\n      <th>RDBMS Competency</th>\n    </tr>\n  </thead>\n  <tbody>\n    <tr>\n      <th>0</th>\n      <td>1</td>\n      <td>2020-03-05 08:49:10 UTC</td>\n      <td>Friday 10 a.m. to 12 p.m., weeks 1-6 and 8-13 ...</td>\n      <td>biology and data science</td>\n      <td>1.0</td>\n      <td>Written some simple Python programs</td>\n      <td>No</td>\n      <td>Java</td>\n      <td>Heard of it, but never used it.</td>\n      <td>Microsoft Access,Oracle,Sybase</td>\n    </tr>\n    <tr>\n      <th>1</th>\n      <td>2</td>\n      <td>2020-03-05 05:55:35 UTC</td>\n      <td>F12</td>\n      <td>Biomedical engineering</td>\n      <td>NaN</td>\n      <td>None</td>\n      <td>No</td>\n      <td>Matlab,R</td>\n      <td>Never heard of SQL.</td>\n      <td>Microsoft Access</td>\n    </tr>\n    <tr>\n      <th>2</th>\n      <td>3</td>\n      <td>2020-03-04 13:59:27 UTC</td>\n      <td>Friday, 10-12 A.M., SIT lab 114</td>\n      <td>Advanced Computing, 2rd year</td>\n      <td>3.0</td>\n      <td>Have written complex Python programs already.</td>\n      <td>Yes</td>\n      <td>C,C++,Java</td>\n      <td>Heard of it, but never used it.</td>\n      <td>SQLite</td>\n    </tr>\n    <tr>\n      <th>3</th>\n      <td>4</td>\n      <td>2020-03-03 23:46:26 UTC</td>\n      <td>F10D</td>\n      <td>Bachelor of Economics, second year</td>\n      <td>6.0</td>\n      <td>Competent Python programmer (familiar with eg....</td>\n      <td>No</td>\n      <td>Java,Matlab,R</td>\n      <td>Written some SQL queries already.</td>\n      <td>Microsoft Access</td>\n    </tr>\n    <tr>\n      <th>4</th>\n      <td>5</td>\n      <td>2020-03-03 06:47:16 UTC</td>\n      <td>Friday 2-4pm SIT 116</td>\n      <td>Bachelor of Project Management</td>\n      <td>1.0</td>\n      <td>Basic understanding</td>\n      <td>No</td>\n      <td>Java</td>\n      <td>Written some SQL queries already.</td>\n      <td>Microsoft SQL Server,MySQL,SQLite</td>\n    </tr>\n  </tbody>\n</table>\n</div>",
      "text/plain": "   respondent_id                submitted  \\\n0              1  2020-03-05 08:49:10 UTC   \n1              2  2020-03-05 05:55:35 UTC   \n2              3  2020-03-04 13:59:27 UTC   \n3              4  2020-03-03 23:46:26 UTC   \n4              5  2020-03-03 06:47:16 UTC   \n\n                                      Tutorial Class  \\\n0  Friday 10 a.m. to 12 p.m., weeks 1-6 and 8-13 ...   \n1                                                F12   \n2                    Friday, 10-12 A.M., SIT lab 114   \n3                                               F10D   \n4                               Friday 2-4pm SIT 116   \n\n                               Degree  Programming Experience  \\\n0            biology and data science                     1.0   \n1              Biomedical engineering                     NaN   \n2        Advanced Computing, 2rd year                     3.0   \n3  Bachelor of Economics, second year                     6.0   \n4      Bachelor of Project Management                     1.0   \n\n                                Experience in Python Used Jupyter Notebooks  \\\n0                Written some simple Python programs                     No   \n1                                               None                     No   \n2      Have written complex Python programs already.                    Yes   \n3  Competent Python programmer (familiar with eg....                     No   \n4                                Basic understanding                     No   \n\n  Other Programming Language Competency                     SQL Competency  \\\n0                                  Java    Heard of it, but never used it.   \n1                              Matlab,R                Never heard of SQL.   \n2                            C,C++,Java    Heard of it, but never used it.   \n3                         Java,Matlab,R  Written some SQL queries already.   \n4                                  Java  Written some SQL queries already.   \n\n                    RDBMS Competency  \n0     Microsoft Access,Oracle,Sybase  \n1                   Microsoft Access  \n2                             SQLite  \n3                   Microsoft Access  \n4  Microsoft SQL Server,MySQL,SQLite  "
     },
     "execution_count": 31,
     "metadata": {},
     "output_type": "execute_result"
    }
   ],
   "source": [
    "# Import data\n",
    "rawData = pd.read_csv('programming_experience_survey_2020.csv')\n",
    "# print(rawData.dtypes)\n",
    "# print(type(rawData[\"submitted\"]))\n",
    "print(rawData.shape)\n",
    "rawData.head()"
   ]
  },
  {
   "cell_type": "markdown",
   "metadata": {},
   "source": [
    "## 1.1 TO DO for you Visualise the 9th, 15th, 31st, and 2nd last records\n",
    "\n",
    "Display the 9th, 15th, 31th and the 2nd last record of the dictionary (hint: create an array of the appropriate indices annd use the DataFrame 'iloc' function to filter your DataFrame)."
   ]
  },
  {
   "cell_type": "code",
   "execution_count": 21,
   "metadata": {},
   "outputs": [
    {
     "data": {
      "text/html": "<div>\n<style scoped>\n    .dataframe tbody tr th:only-of-type {\n        vertical-align: middle;\n    }\n\n    .dataframe tbody tr th {\n        vertical-align: top;\n    }\n\n    .dataframe thead th {\n        text-align: right;\n    }\n</style>\n<table border=\"1\" class=\"dataframe\">\n  <thead>\n    <tr style=\"text-align: right;\">\n      <th></th>\n      <th>respondent_id</th>\n      <th>submitted</th>\n      <th>Tutorial Class</th>\n      <th>Degree</th>\n      <th>Programming Experience</th>\n      <th>Experience in Python</th>\n      <th>Used Jupyter Notebooks</th>\n      <th>Other Programming Language Competency</th>\n      <th>SQL Competency</th>\n      <th>RDBMS Competency</th>\n    </tr>\n  </thead>\n  <tbody>\n    <tr>\n      <th>9</th>\n      <td>10</td>\n      <td>2020-02-29 07:56:17 UTC</td>\n      <td>Fri AM</td>\n      <td>NaN</td>\n      <td>3.0</td>\n      <td>Written some simple Python programs</td>\n      <td>Yes</td>\n      <td>C++,C#</td>\n      <td>Can interpret some SQL statements.</td>\n      <td>NaN</td>\n    </tr>\n    <tr>\n      <th>15</th>\n      <td>16</td>\n      <td>2020-02-28 05:19:46 UTC</td>\n      <td>F16A</td>\n      <td>Bachelors of Software Engineering (Honours), 2...</td>\n      <td>1.0</td>\n      <td>Written some simple Python programs</td>\n      <td>No</td>\n      <td>Java,Javascript/ECMAScript</td>\n      <td>Can interpret some SQL statements.</td>\n      <td>Microsoft SQL Server</td>\n    </tr>\n    <tr>\n      <th>31</th>\n      <td>32</td>\n      <td>2020-02-28 03:24:38 UTC</td>\n      <td>Friday 12-2pm \\n\\nSIT lab 114 (online)</td>\n      <td>In the second year doing bachelor of Advanced ...</td>\n      <td>1.0</td>\n      <td>Competent Python programmer (familiar with eg....</td>\n      <td>No</td>\n      <td>Java,R</td>\n      <td>Heard of it, but never used it.</td>\n      <td>Other (answer as comment below)</td>\n    </tr>\n    <tr>\n      <th>261</th>\n      <td>262</td>\n      <td>2020-02-19 23:51:57 UTC</td>\n      <td>10am to 12pm SIT Lab 117</td>\n      <td>Bachelor of Economics, First year</td>\n      <td>0.0</td>\n      <td>Written some simple Python programs</td>\n      <td>No</td>\n      <td>Other (answer below in comment)</td>\n      <td>Never heard of SQL.</td>\n      <td>Other (answer as comment below)</td>\n    </tr>\n  </tbody>\n</table>\n</div>",
      "text/plain": "     respondent_id                submitted  \\\n9               10  2020-02-29 07:56:17 UTC   \n15              16  2020-02-28 05:19:46 UTC   \n31              32  2020-02-28 03:24:38 UTC   \n261            262  2020-02-19 23:51:57 UTC   \n\n                             Tutorial Class  \\\n9                                    Fri AM   \n15                                     F16A   \n31   Friday 12-2pm \\n\\nSIT lab 114 (online)   \n261                10am to 12pm SIT Lab 117   \n\n                                                Degree  \\\n9                                                  NaN   \n15   Bachelors of Software Engineering (Honours), 2...   \n31   In the second year doing bachelor of Advanced ...   \n261                  Bachelor of Economics, First year   \n\n     Programming Experience  \\\n9                       3.0   \n15                      1.0   \n31                      1.0   \n261                     0.0   \n\n                                  Experience in Python Used Jupyter Notebooks  \\\n9                  Written some simple Python programs                    Yes   \n15                 Written some simple Python programs                     No   \n31   Competent Python programmer (familiar with eg....                     No   \n261                Written some simple Python programs                     No   \n\n    Other Programming Language Competency                      SQL Competency  \\\n9                                  C++,C#  Can interpret some SQL statements.   \n15             Java,Javascript/ECMAScript  Can interpret some SQL statements.   \n31                                 Java,R     Heard of it, but never used it.   \n261       Other (answer below in comment)                 Never heard of SQL.   \n\n                    RDBMS Competency  \n9                                NaN  \n15              Microsoft SQL Server  \n31   Other (answer as comment below)  \n261  Other (answer as comment below)  "
     },
     "execution_count": 21,
     "metadata": {},
     "output_type": "execute_result"
    }
   ],
   "source": [
    "# TODO; \n",
    "#Double array to print multiple records\n",
    "rawData.iloc[[9,15,31,-2]]"
   ]
  },
  {
   "cell_type": "markdown",
   "metadata": {},
   "source": [
    "## 1.2 Rename dataframe columns\n",
    "\n",
    "Usually when we receive data, the column/field labels are very long and descriptive. However, when we want to process data, we usually like to relabel columns/fields to make it easier to type.\n",
    ":\n",
    "First let's have a look at list of the column headings:"
   ]
  },
  {
   "cell_type": "code",
   "execution_count": 22,
   "metadata": {},
   "outputs": [
    {
     "data": {
      "text/plain": "['respondent_id',\n 'submitted',\n 'Tutorial Class',\n 'Degree',\n 'Programming Experience',\n 'Experience in Python',\n 'Used Jupyter Notebooks',\n 'Other Programming Language Competency',\n 'SQL Competency',\n 'RDBMS Competency']"
     },
     "execution_count": 22,
     "metadata": {},
     "output_type": "execute_result"
    }
   ],
   "source": [
    "rawData.columns.values.tolist()"
   ]
  },
  {
   "cell_type": "markdown",
   "metadata": {},
   "source": [
    "Now let's create a working copy of our data so that we don't modify our original data. This a common practice to make sure we do not accidently corrupt our initial input data.\n",
    "\n",
    "Once we have our working copy and our above list of headings, it's a simple matter of using the DataFrame 'rename(*rename_target*=*mapping dictionary of old to new field names*, inplace=True)' function to change the column/field headers within our working copy. The 'inplace=True' means modify the existing items in the DataFrame."
   ]
  },
  {
   "cell_type": "code",
   "execution_count": 33,
   "metadata": {},
   "outputs": [
    {
     "name": "stdout",
     "output_type": "stream",
     "text": "ResId                                      int64\nSubmitDateTime                            object\nClassId                                   object\nDegree                                    object\nPrgExp                                   float64\nPyExp                                     object\nJupyterExp                                object\nOther Programming Language Competency     object\nSQLExp                                    object\nRDBMS Competency                          object\ndtype: object\n"
    }
   ],
   "source": [
    "# Create a working copy of the raw data\n",
    "wrkData = rawData.copy()\n",
    "\n",
    "# Rename columns\n",
    "wrkData.rename(columns={\n",
    "    'respondent_id': 'ResId',\n",
    "    'submitted': 'SubmitDateTime',\n",
    "    'Tutorial Class': 'ClassId',\n",
    "#     'Degree',\n",
    "    'Programming Experience': 'PrgExp',\n",
    "    'Experience in Python': 'PyExp',\n",
    "    'Used Jupyter Notebooks': 'JupyterExp',\n",
    "    'Other Programming Languages Competency': 'OtherExp',\n",
    "    'SQL Competency': 'SQLExp',\n",
    "    'Relational Databases Competency': 'RelDBExp'\n",
    "}, inplace=True)\n"
   ]
  },
  {
   "cell_type": "markdown",
   "metadata": {},
   "source": [
    "Since we are loading from CSV, we do not have type association for our columns/fields (in fact, everything is considered to be a string). Type information is important because it can alter how the same operations affect the same data but with different types - consider a string vs a number vs a date:\n",
    "\n",
    "   **\"3\" + \"4\" = \"34\"**\n",
    "   \n",
    "   **3 + 4 = 7**\n",
    "   \n",
    "   **3s + 4h = 4:00:03**\n",
    "   \n",
    "Let's try converting the 'SubmitDateTime' column/field to a date type and view our data again:"
   ]
  },
  {
   "cell_type": "code",
   "execution_count": 24,
   "metadata": {},
   "outputs": [
    {
     "name": "stdout",
     "output_type": "stream",
     "text": "ResId                                                  int64\nSubmitDateTime                           datetime64[ns, UTC]\nClassId                                               object\nDegree                                                object\nPrgExp                                               float64\nPyExp                                                 object\nJupyterExp                                            object\nOther Programming Language Competency                 object\nSQLExp                                                object\nRDBMS Competency                                      object\ndtype: object\n"
    },
    {
     "data": {
      "text/html": "<div>\n<style scoped>\n    .dataframe tbody tr th:only-of-type {\n        vertical-align: middle;\n    }\n\n    .dataframe tbody tr th {\n        vertical-align: top;\n    }\n\n    .dataframe thead th {\n        text-align: right;\n    }\n</style>\n<table border=\"1\" class=\"dataframe\">\n  <thead>\n    <tr style=\"text-align: right;\">\n      <th></th>\n      <th>ResId</th>\n      <th>SubmitDateTime</th>\n      <th>ClassId</th>\n      <th>Degree</th>\n      <th>PrgExp</th>\n      <th>PyExp</th>\n      <th>JupyterExp</th>\n      <th>Other Programming Language Competency</th>\n      <th>SQLExp</th>\n      <th>RDBMS Competency</th>\n    </tr>\n  </thead>\n  <tbody>\n    <tr>\n      <th>0</th>\n      <td>1</td>\n      <td>2020-03-05 08:49:10+00:00</td>\n      <td>Friday 10 a.m. to 12 p.m., weeks 1-6 and 8-13 ...</td>\n      <td>biology and data science</td>\n      <td>1.0</td>\n      <td>Written some simple Python programs</td>\n      <td>No</td>\n      <td>Java</td>\n      <td>Heard of it, but never used it.</td>\n      <td>Microsoft Access,Oracle,Sybase</td>\n    </tr>\n    <tr>\n      <th>1</th>\n      <td>2</td>\n      <td>2020-03-05 05:55:35+00:00</td>\n      <td>F12</td>\n      <td>Biomedical engineering</td>\n      <td>NaN</td>\n      <td>None</td>\n      <td>No</td>\n      <td>Matlab,R</td>\n      <td>Never heard of SQL.</td>\n      <td>Microsoft Access</td>\n    </tr>\n    <tr>\n      <th>2</th>\n      <td>3</td>\n      <td>2020-03-04 13:59:27+00:00</td>\n      <td>Friday, 10-12 A.M., SIT lab 114</td>\n      <td>Advanced Computing, 2rd year</td>\n      <td>3.0</td>\n      <td>Have written complex Python programs already.</td>\n      <td>Yes</td>\n      <td>C,C++,Java</td>\n      <td>Heard of it, but never used it.</td>\n      <td>SQLite</td>\n    </tr>\n    <tr>\n      <th>3</th>\n      <td>4</td>\n      <td>2020-03-03 23:46:26+00:00</td>\n      <td>F10D</td>\n      <td>Bachelor of Economics, second year</td>\n      <td>6.0</td>\n      <td>Competent Python programmer (familiar with eg....</td>\n      <td>No</td>\n      <td>Java,Matlab,R</td>\n      <td>Written some SQL queries already.</td>\n      <td>Microsoft Access</td>\n    </tr>\n    <tr>\n      <th>4</th>\n      <td>5</td>\n      <td>2020-03-03 06:47:16+00:00</td>\n      <td>Friday 2-4pm SIT 116</td>\n      <td>Bachelor of Project Management</td>\n      <td>1.0</td>\n      <td>Basic understanding</td>\n      <td>No</td>\n      <td>Java</td>\n      <td>Written some SQL queries already.</td>\n      <td>Microsoft SQL Server,MySQL,SQLite</td>\n    </tr>\n  </tbody>\n</table>\n</div>",
      "text/plain": "   ResId            SubmitDateTime  \\\n0      1 2020-03-05 08:49:10+00:00   \n1      2 2020-03-05 05:55:35+00:00   \n2      3 2020-03-04 13:59:27+00:00   \n3      4 2020-03-03 23:46:26+00:00   \n4      5 2020-03-03 06:47:16+00:00   \n\n                                             ClassId  \\\n0  Friday 10 a.m. to 12 p.m., weeks 1-6 and 8-13 ...   \n1                                                F12   \n2                    Friday, 10-12 A.M., SIT lab 114   \n3                                               F10D   \n4                               Friday 2-4pm SIT 116   \n\n                               Degree  PrgExp  \\\n0            biology and data science     1.0   \n1              Biomedical engineering     NaN   \n2        Advanced Computing, 2rd year     3.0   \n3  Bachelor of Economics, second year     6.0   \n4      Bachelor of Project Management     1.0   \n\n                                               PyExp JupyterExp  \\\n0                Written some simple Python programs         No   \n1                                               None         No   \n2      Have written complex Python programs already.        Yes   \n3  Competent Python programmer (familiar with eg....         No   \n4                                Basic understanding         No   \n\n  Other Programming Language Competency                             SQLExp  \\\n0                                  Java    Heard of it, but never used it.   \n1                              Matlab,R                Never heard of SQL.   \n2                            C,C++,Java    Heard of it, but never used it.   \n3                         Java,Matlab,R  Written some SQL queries already.   \n4                                  Java  Written some SQL queries already.   \n\n                    RDBMS Competency  \n0     Microsoft Access,Oracle,Sybase  \n1                   Microsoft Access  \n2                             SQLite  \n3                   Microsoft Access  \n4  Microsoft SQL Server,MySQL,SQLite  "
     },
     "execution_count": 24,
     "metadata": {},
     "output_type": "execute_result"
    }
   ],
   "source": [
    "# Convert to datetime\n",
    "# SubmitDateTime here is original \"submitted\" in rawData\n",
    "wrkData['SubmitDateTime'] = pd.to_datetime(wrkData['SubmitDateTime'])\n",
    "\n",
    "# Check df column data types\n",
    "print(wrkData.dtypes)\n",
    "\n",
    "# View\n",
    "wrkData.head()"
   ]
  },
  {
   "cell_type": "markdown",
   "metadata": {},
   "source": [
    "## Exercise 2. Data Cleaning and Conversion\n",
    "\n",
    "It's often the case that form data is collected in terms of text data, but we wish to convert this to a numerical value. A common practice among questions that ascertain some sort of increasing level of respondance is to convert to a Likert scale - this is an escalating series of numbers that replaces each level of respondance.\n",
    "\n",
    "### 2.1 Map Columns values to digits\n",
    "Map the {PythonExp} column values as follows:\n",
    "- 'None' = 1\n",
    "- 'Basic understanding' = 2\n",
    "- 'Written some simple Python programs' = 3\n",
    "- 'Competent Python programmer (familiar with eg. functions and classes)' = 4\n",
    "- 'Have written complex Python programs already.' = 5\n",
    "\n",
    "Let's examine the particular responses we received for 'Experience in Python'.\n",
    "\n",
    "This can be achieved using the DataFrame 'groupby' and 'size' functions."
   ]
  },
  {
   "cell_type": "code",
   "execution_count": 45,
   "metadata": {},
   "outputs": [
    {
     "data": {
      "text/plain": "PyExp\nBasic understanding                                                       32\nCompetent Python programmer (familiar with eg. functions and classes)    121\nHave written complex Python programs already.                             25\nNone                                                                       6\nWritten some simple Python programs                                       79\ndtype: int64"
     },
     "execution_count": 45,
     "metadata": {},
     "output_type": "execute_result"
    }
   ],
   "source": [
    "# Get distinct list of {PythonExp} values\n",
    "# wrkData.groupby('PyExp').size().reset_index(name='NumObs') # df\n",
    "wrkData.groupby('PyExp').size() # Series\n",
    "# wrkData.groupby('PyExp').agg('count')"
   ]
  },
  {
   "cell_type": "markdown",
   "metadata": {},
   "source": [
    "### TODO for you - Map column values\n",
    "\n",
    "Next we have to use our mapping established above to introduce a new field/column that contains the Likert scale values for our Python experience. You can label the new column/field 'PyExpLikert'.\n",
    "\n",
    "Hint: Use the DataFrame command 'map(*mapping dictionary of old to new field values*)'"
   ]
  },
  {
   "cell_type": "code",
   "execution_count": 48,
   "metadata": {},
   "outputs": [
    {
     "data": {
      "text/plain": "0      3\n1      1\n2      5\n3      4\n4      2\n5      4\n6      4\n7      3\n8      4\n9      3\n10     5\n11     4\n12     2\n13     2\n14     3\n15     3\n16     1\n17     4\n18     4\n19     4\n20     3\n21     3\n22     4\n23     3\n24     2\n25     4\n26     3\n27     4\n28     2\n29     3\n      ..\n233    2\n234    4\n235    5\n236    4\n237    4\n238    3\n239    4\n240    3\n241    4\n242    3\n243    4\n244    5\n245    4\n246    4\n247    3\n248    3\n249    4\n250    4\n251    4\n252    5\n253    4\n254    4\n255    3\n256    3\n257    5\n258    4\n259    3\n260    4\n261    3\n262    3\nName: PyExp, Length: 263, dtype: int64"
     },
     "execution_count": 48,
     "metadata": {},
     "output_type": "execute_result"
    }
   ],
   "source": [
    "# TODO - Add a new field / column called 'PyExpLikert' that changes the Experience in Python responses to a Likert Scale\n",
    "wrkData[\"PyExp\"].map({\"None\" : 1, \"Basic understanding\" : 2, \"Written some simple Python programs\" : 3, \"Competent Python programmer (familiar with eg. functions and classes)\" : 4, \"Have written complex Python programs already.\" : 5})"
   ]
  },
  {
   "cell_type": "markdown",
   "metadata": {},
   "source": [
    "### 2.2 Number of Other Languages Experience\n",
    "\n",
    "Deﬁne the cardinality for each respondent by considering responses in regards to their experience described in 'Other programming languages competency'. \n",
    "\n",
    "For example, your response mapping should work as follows:\n",
    "\n",
    "'C#, Java, Javascript/ECMAScript, Matlab' = 4\n",
    "\n",
    "'Matlab,R' = 2 \n",
    "\n",
    "'Haskell' = 1\n",
    "\n",
    "... and so on. \n",
    "\n",
    "### TODO by you - Identify the number of other languages {OtherExpCnt} for each respondent. \n",
    "\n",
    "Add a new field/column to your working data ('OtherExpCnt') that will contain the converted cardinality values calculated above. \n",
    "\n",
    "Hint: consider the number of comma separated values in each cell. Try using the 'count(*character*)' property of strings in addition to the DataFrame mapping ability. \n"
   ]
  },
  {
   "cell_type": "code",
   "execution_count": null,
   "metadata": {},
   "outputs": [],
   "source": [
    "# TODO by you - Identify the number of other languages {OtherExpCnt} for each respondent. \n",
    "\n"
   ]
  },
  {
   "cell_type": "markdown",
   "metadata": {},
   "source": [
    "### 2.3 TODO by you - Number of Relational Database Competency {RelDBExp}\n",
    "\n",
    "We also wish to identify the relation database experience as a numerical value as well. In a manner similar to the task above, identify the number of relational database compentencies and store it in a new field/column {RelDBExp} in our working data."
   ]
  },
  {
   "cell_type": "code",
   "execution_count": null,
   "metadata": {},
   "outputs": [],
   "source": [
    "# TODO by you - Number of Relational Database Competency {RelDBExp}\n",
    "\n"
   ]
  },
  {
   "cell_type": "markdown",
   "metadata": {},
   "source": [
    "### 2.4 TODO by you - Encode SQL Competency {SQLExpLikert}\n",
    "\n",
    "Similar to 2.1, encode a new field/column {SQLExpLikert} using the following encoding for the Likert scale of the 'SQLExp' field/column:\n",
    "- 'Never heard of SQL' = 1\n",
    "- 'Heard of it, but never used it' = 2\n",
    "- 'Can interpret some SQL statements' = 3\n",
    "- 'Written some SQL queries already' = 4\n",
    "- 'Can already create tables and write complex SQL queries' = 5\n",
    "\n",
    "First check distinct values of {SQLExp}."
   ]
  },
  {
   "cell_type": "code",
   "execution_count": null,
   "metadata": {},
   "outputs": [],
   "source": [
    "# wrkData['SQLExp'].unique().tolist()"
   ]
  },
  {
   "cell_type": "code",
   "execution_count": null,
   "metadata": {},
   "outputs": [],
   "source": [
    "# TODO by you - Encode SQL Competency {SQLExpLikert}\n"
   ]
  },
  {
   "cell_type": "markdown",
   "metadata": {},
   "source": [
    "### 2.5 (ADV only) TODO by you - Dealing with cleaning many varied strings\n",
    "\n",
    "Define a Python method to clean the 'Tutorial class' column by analysing the texts in cells as follows (it will be written in all kinds of variants, the the following as a general mapping):\n",
    "\n",
    "- SIT Lab 117 (Friday 8am-10am) = F08A\n",
    "- SIT Lab 116 (Friday 8am-10am) = F08B\n",
    "- SIT Lab 118 (Friday 8am-10am) = F08C\n",
    "- SIT Lab 115 (Friday 8am-10am) (online) = F08D\n",
    "- SIT Lab 114 advanced (Friday 8am-10am) = F08ADV\n",
    "- SIT Lab 118 (Friday 10am-12pm) (online) = F10A\n",
    "- SIT Lab 117 (Friday 10am-12pm) = F10B\n",
    "- SIT Lab 116 (Friday 10am-12pm) = F10C\n",
    "- SIT Lab 115 (Friday 10am-12pm) = F10D\n",
    "- SIT Lab 114 advanced (Friday 10am-12pm) = F10ADV\n",
    "- SIT Lab 115 (Friday 12-2pm) = F12A\n",
    "- SIT Lab 114 (Friday 12-2pm) (online) = F12A\n",
    "- SIT Lab 116 (Friday 12-2pm) = F12C\n",
    "- SIT Lab 117 (Friday 12-2pm) = F12D\n",
    "- SIT Lab 115 (Friday 2-4pm) = F14A\n",
    "- SIT Lab 117 (Friday 2-4pm) = F14B\n",
    "- SIT Lab 116 (Friday 2-4pm) = F14C\n",
    "- SIT Lab 114 (Friday 12-2pm) (online) = F14D\n",
    "- SIT Lab 115 (Friday 4-6pm) = F16A\n",
    "\n",
    "All strings need to be cleaned and converted such that this column contains only the given (F08A/B/C/D, F10A/B/C/D, F12A/B/C/D, F14A/B/C/D, F16A) codes. All values which do not fit into this pattern (e.g. a single ”Yes” answer) should be converted to 'NA'.\n",
    "\n",
    "You can begin with the cleaning function provided in the lectures. Note that this function changes data in place:"
   ]
  },
  {
   "cell_type": "code",
   "execution_count": null,
   "metadata": {},
   "outputs": [],
   "source": [
    "def clean(data, column_key, convert_function, default_value, special_values):\n",
    "#     special_values= {} # we provide the special values\n",
    "    for row in data:\n",
    "        old_value = row[column_key]\n",
    "        new_value = default_value\n",
    "        try:\n",
    "            if old_value in special_values.keys():\n",
    "                new_value = special_values[old_value]\n",
    "            else:\n",
    "                new_value = convert_function(old_value)\n",
    "        except (ValueError, TypeError):\n",
    "            print('Replacing {} with {} in column {}'.format(row[column_key], new_value, column_key))\n",
    "        row[column_key] = new_value"
   ]
  },
  {
   "cell_type": "markdown",
   "metadata": {},
   "source": []
  },
  {
   "cell_type": "markdown",
   "metadata": {},
   "source": [
    "## Exercise 3. Analysing Date and Time\n",
    "\n",
    "Usually we need to do very specific operations on dates and times. These will usually involve seperating particular components or calculating durations.\n",
    "\n",
    "### 3.1 TODO by you - Extract the Date {SubmitDate} and Time {'SubmitTime} components of the Submitted column/field\n",
    "\n",
    "Create a new field/column {SubmitDate} for the Date component and a new field/column {SubmitTime} for the Time component from the submission time."
   ]
  },
  {
   "cell_type": "code",
   "execution_count": null,
   "metadata": {},
   "outputs": [],
   "source": [
    "# TODO by you - Extract the Date {SubmitDate}\n",
    "# Get date component\n"
   ]
  },
  {
   "cell_type": "code",
   "execution_count": null,
   "metadata": {},
   "outputs": [],
   "source": [
    "# TODO by you - Extract the Time {SubmitDate}\n",
    "# Get time component\n"
   ]
  },
  {
   "cell_type": "markdown",
   "metadata": {},
   "source": [
    "## Exercise 4. Data Visualisations\n",
    "\n",
    "Data visualisation are an important part of analysing data and gaining insights. \n",
    "\n",
    "In this exercise, you must use a frequency plot and a box plot to visualise the data we have gathered and cleaned.\n",
    "\n",
    "### 4.1 Frequency Plot / Histogram\n",
    "\n",
    "Show a frequency plot of the 'Python Experience' as given by the respondents. In this plot, the x-axis should contain the Python Experience in level (1, 2, 3, 4, 5...) and y-axis should contain how many respondents there were for each level. Bar chart plotting reference: https://pythonspot.com/matplotlib-bar-chart/"
   ]
  },
  {
   "cell_type": "code",
   "execution_count": null,
   "metadata": {},
   "outputs": [],
   "source": [
    "%matplotlib inline\n"
   ]
  },
  {
   "cell_type": "markdown",
   "metadata": {},
   "source": [
    "### 4.2 Boxplots for Likert-Scale\n",
    "\n",
    "Using boxplots this time, visualise boxplots for {OtherExpCnt} and {RelDBExpCnt}."
   ]
  },
  {
   "cell_type": "code",
   "execution_count": null,
   "metadata": {},
   "outputs": [],
   "source": [
    "%matplotlib inline\n"
   ]
  },
  {
   "cell_type": "markdown",
   "metadata": {},
   "source": [
    "## Exercise 5. (Adv only) Integrating Unix into Jupyter Notebook\n",
    "\n",
    "The general idea of the advanced exercise is to solve a few of the data cleaning and analysis steps with the help of some common Unix commands in some of thenotebook cells (cf. advanced seminar this week).\n",
    "\n",
    "### 5.1 TODO by you - Python compentency\n",
    "\n",
    "Determine  the  number  of  responses  for  each  Python  programming  competency level using Unix commands."
   ]
  },
  {
   "cell_type": "code",
   "execution_count": null,
   "metadata": {},
   "outputs": [],
   "source": [
    "# TODO by you - use Unix commands to determine the number of competency for each level of python programming"
   ]
  },
  {
   "cell_type": "markdown",
   "metadata": {},
   "source": [
    "### 5.2 TODO by you - Other languages competency\n",
    "\n",
    "Split the responses for additional language skills into individual language answers, and then determine the number of mentionings of each programming language (using at least in part Unix commands)."
   ]
  },
  {
   "cell_type": "code",
   "execution_count": null,
   "metadata": {},
   "outputs": [],
   "source": [
    "# TODO by you - split the additional language skills into individual language answers, \n",
    "#  then determine the mentions of each programming language. Look at the wordcount example for inspiration\n"
   ]
  },
  {
   "cell_type": "markdown",
   "metadata": {},
   "source": [
    "### 5.3 TODO by you - Visualise the results\n",
    "\n",
    "Visual the results from the previous sub-question in a histogram plot. \n",
    "\n",
    "Which languages are most known?\n",
    "\n",
    "Which languages are least known?"
   ]
  },
  {
   "cell_type": "code",
   "execution_count": null,
   "metadata": {},
   "outputs": [],
   "source": [
    "# TODO by you - visualise the results of 5.2, you will have to save the results back into a python variable"
   ]
  },
  {
   "cell_type": "markdown",
   "metadata": {},
   "source": [
    "### 5.4 TODO by you - Do the same for the databases skills. \n",
    "\n",
    "Which database systems are known/used most by students of this class?"
   ]
  },
  {
   "cell_type": "code",
   "execution_count": null,
   "metadata": {},
   "outputs": [],
   "source": [
    "#TODO by you - repeat 5.2 and 5.3 for the different types of databases systems or skills that students know"
   ]
  }
 ],
 "metadata": {
  "kernelspec": {
   "display_name": "Python 3",
   "language": "python",
   "name": "python3"
  },
  "language_info": {
   "codemirror_mode": {
    "name": "ipython",
    "version": 3
   },
   "file_extension": ".py",
   "mimetype": "text/x-python",
   "name": "python",
   "nbconvert_exporter": "python",
   "pygments_lexer": "ipython3",
   "version": "3.7.3-final"
  }
 },
 "nbformat": 4,
 "nbformat_minor": 2
}