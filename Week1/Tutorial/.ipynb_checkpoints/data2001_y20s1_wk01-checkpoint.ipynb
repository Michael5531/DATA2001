{
 "cells": [
  {
   "cell_type": "markdown",
   "metadata": {},
   "source": [
    "# Welcome to DATA2001: Data Science: Big Data and Data Diversity"
   ]
  },
  {
   "cell_type": "markdown",
   "metadata": {},
   "source": [
    "Welcome to DATA2001. We expect that all the students have a background in at least one programming language, preferably Python. However we understand that some students might lack the skills in Python and/or other programming languages. Therefore we would like to request you to complete “Programming Experience Survey” available in the Canvas. The survey will guide us to customise the contents of this course. \n",
    "\n",
    "If you would like to refresh or start learning basic Python scripts, we prepared the following few exercises. You might also want to consider to enrol in the OLEO1306 - Data Analysis with Python  (0cp) OLE course.\n",
    "\n",
    "We will be using **Python and Jupyter** for the *majority* of the lectures/tutorials.\n",
    "You will have access to the following Jupyter servers.\n",
    "\n",
    "    \thttps://soit-ucpu-pro-1.ucc.usyd.edu.au\n",
    "    \thttps://soit-ucpu-pro-2.ucc.usyd.edu.au\n",
    "    \thttps://soit-ucpu-pro-3.ucc.usyd.edu.au\n",
    "     \n"
   ]
  },
  {
   "cell_type": "markdown",
   "metadata": {},
   "source": [
    "## Jupyter Notebooks\n",
    "\n",
    "In this semester, our primary portal for python programming will be by using these Jupyter notebooks. These are interactive collections of code and documentation that can show the thought process that was involved in arriving a particular solution.\n",
    "\n",
    "### Cells\n",
    "\n",
    "The main component of a notebook is a cell.\n",
    "\n",
    "A cell can be of two types, code or markdown.\n",
    "\n",
    "This cell is a markdown cell where we can use the Markdown language to write documentation"
   ]
  },
  {
   "cell_type": "code",
   "execution_count": null,
   "metadata": {},
   "outputs": [],
   "source": [
    "# This cell is a code cell where we use the Python language to write code\n",
    "print(\"This is a code cell!\")"
   ]
  },
  {
   "cell_type": "markdown",
   "metadata": {},
   "source": [
    "### Scope\n",
    "\n",
    "Cells in a notebook do not operate in isolation. The scope of the current cell is all cells previously executed before it. You can see this scope *level* by checking the number to the left of each code cell. \n",
    "\n",
    "Each cell will have all cells with a smaller number within it's scope.\n",
    "\n",
    "By default, the cells are executed from top to bottom. So by default , each cell will have the scope of all the cells above it.\n",
    "\n",
    "**Add a small scope example**"
   ]
  },
  {
   "cell_type": "markdown",
   "metadata": {},
   "source": [
    "\n",
    "## EXERCISE 1: Python Refresher\n",
    "\n",
    "### Data structures\n",
    "\n",
    "Python list, dictionary, tuple and set are the most used data structures in data science applications."
   ]
  },
  {
   "cell_type": "code",
   "execution_count": null,
   "metadata": {},
   "outputs": [],
   "source": [
    "list = [1, 2, 3]\n",
    "dictionary = {1: \"eins\", 2: \"zwei\", 3: \"drei\"}\n",
    "tuple = (1, 2, 3)\n",
    "set = {1, 2, 3}\n",
    "\n",
    "print(\"list:\", list)\n",
    "print(\"dictionary:\", dictionary)\n",
    "print(\"tuple:\", tuple)\n",
    "print(\"set:\", set)"
   ]
  },
  {
   "cell_type": "markdown",
   "metadata": {},
   "source": [
    "Hello World"
   ]
  },
  {
   "cell_type": "markdown",
   "metadata": {},
   "source": [
    "### Loops and conditions in Python\n",
    "\n",
    "There are two types of loops in Python, for and while. The code within a loop gets executed as long as the condition is true."
   ]
  },
  {
   "cell_type": "code",
   "execution_count": null,
   "metadata": {},
   "outputs": [],
   "source": [
    "for i in range(3):\n",
    "    print(i)\n",
    "\n",
    "i = 0\n",
    "while i < 3:\n",
    "    print(i)\n",
    "    i = i + 1"
   ]
  },
  {
   "cell_type": "code",
   "execution_count": null,
   "metadata": {},
   "outputs": [],
   "source": [
    "# Conditions if and else are employed to nest conditions\n",
    "x = 5;\n",
    "if x%2==0 :\n",
    "    print (\"This is an even number.\")\n",
    "else :\n",
    "    print (\"This is an odd number.\")"
   ]
  },
  {
   "cell_type": "markdown",
   "metadata": {},
   "source": [
    "### Functions\n",
    "\n",
    "Python code could be made modular as block of reuseable code, called function. A function can accept parameters and can return values. "
   ]
  },
  {
   "cell_type": "code",
   "execution_count": null,
   "metadata": {},
   "outputs": [],
   "source": [
    "def addTwoNumbers (x, y):\n",
    "    return x+y\n",
    "z = addTwoNumbers(12,8)\n",
    "\n",
    "print(\"Addition function output z: \", z)\n",
    "print(\"Addition function output 2: \", addTwoNumbers(42,9))\n",
    "print(\"Addition function output 3: \", addTwoNumbers(56,123))\n",
    "\n",
    "# An example of a recursive function\n",
    "def factorial(n):\n",
    "    if n == 1:\n",
    "        return 1\n",
    "    else:\n",
    "        return n * factorial(n-1)\n",
    "    \n",
    "print(\"Recursive function output: \", factorial(4))"
   ]
  },
  {
   "cell_type": "markdown",
   "metadata": {},
   "source": [
    "### List comprehension\n",
    "\n",
    "List comprehension is a compact code form for quick and easy population of a new list by processing an existing list."
   ]
  },
  {
   "cell_type": "code",
   "execution_count": null,
   "metadata": {},
   "outputs": [],
   "source": [
    "print (\"z is: \", z)\n",
    "print (\"addNumbers(1,2) is: \", addTwoNumbers(1,2))\n",
    "\n",
    "\n",
    "x = [1,2,3,4,5,6,7,8,9,10]\n",
    "\n",
    "y = [ i**2 for i in x]\n",
    "\n",
    "print(\"squared list of x: \",y)\n",
    "\n",
    "# conditions could be included in list comprehension\n",
    "number_list = [i ** 2 for i in x if i % 2 == 0]\n",
    "print(\"Square of only even numbers: \", number_list)\n",
    "\n"
   ]
  },
  {
   "cell_type": "markdown",
   "metadata": {},
   "source": [
    "## EXERCISE 2: Python Visualisation\n",
    "\n",
    "In this UoS we will be using matplotlib library to plot our visualsations. Here are some demonstrations which build on the material also presented in the lecture of Week 2."
   ]
  },
  {
   "cell_type": "code",
   "execution_count": null,
   "metadata": {},
   "outputs": [],
   "source": [
    "import matplotlib.pyplot as plt\n",
    "x = [1,2,3,4,5,6,7,8,9,10]\n",
    "plt.plot(x)\n",
    "plt.show()\n"
   ]
  },
  {
   "cell_type": "code",
   "execution_count": null,
   "metadata": {},
   "outputs": [],
   "source": [
    "#Setting labels and plotting two variables x and y\n",
    "y = [x**2 for x in x]\n",
    "plt.plot(x,y)\n",
    "plt.xlabel(\"Label for x-axis\")  \n",
    "plt.ylabel(\"Label for y-axis\")  \n",
    "plt.title('Plotting a quadratic function') \n",
    "plt.show()"
   ]
  },
  {
   "cell_type": "code",
   "execution_count": null,
   "metadata": {},
   "outputs": [],
   "source": [
    "#Setting labels and plotting two variables x and y\n",
    "\n",
    "z = [2**i for i in x]\n",
    "plt.plot(x,y)\n",
    "plt.plot(x,z)\n",
    "plt.xlabel(\"Label for x-axis\")  \n",
    "plt.ylabel(\"Label for y-axis\")  \n",
    "plt.title('Exponential function vs quadratic function') \n",
    "plt.show()"
   ]
  },
  {
   "cell_type": "code",
   "execution_count": null,
   "metadata": {},
   "outputs": [],
   "source": [
    "# Legend in the cornor\n",
    "import numpy as np\n",
    "x = np.linspace(0, 20, 1000)\n",
    "y1 = np.sin(x)\n",
    "y2 = np.cos(x)\n",
    "\n",
    "plt.plot(x, y1, '-g', label='Sine')\n",
    "plt.plot(x, y2, '-r', label='Cosine')\n",
    "plt.legend(loc='upper right')\n",
    "plt.ylim(-1.5, 2.0)\n",
    "plt.show()"
   ]
  },
  {
   "cell_type": "code",
   "execution_count": null,
   "metadata": {},
   "outputs": [],
   "source": [
    "# Scatter plot\n",
    "N = 50\n",
    "x = np.random.rand(N)\n",
    "y = np.random.rand(N)\n",
    "colors = np.random.rand(N)\n",
    "area = np.pi * (15 * np.random.rand(N))**2  # 0 to 15 point radii\n",
    "\n",
    "plt.scatter(x, y, s=area, c=colors, alpha=0.5)\n",
    "plt.show()"
   ]
  },
  {
   "cell_type": "markdown",
   "metadata": {
    "collapsed": true
   },
   "source": [
    "## [Adv] EXERCISE 3: Missing Libraries\n",
    "\n",
    "If for some reason we encounter a missing library, we will have to add it.\n",
    "\n",
    "In this exercise, we will try to use the nltk library for natural language processing.\n",
    "When we try to import and use the library, we should encounter an error:\n",
    "    ---------------------------------------------------------------------------\n",
    "    ModuleNotFoundError                       Traceback (most recent call last)\n",
    "    <ipython-input-1-f4023c4cfdd4> in <module>()\n",
    "    ----> 1 import nltk\n",
    "          2 sentence = \"\"\"At eight o'clock on Thursday morning\n",
    "          3    Arthur didn't feel very good.\"\"\"\n",
    "          4 tokens = nltk.word_tokenize(sentence)\n",
    "          5 print(tokens)\n",
    "    \n",
    "    ModuleNotFoundError: No module named 'nltk'"
   ]
  },
  {
   "cell_type": "code",
   "execution_count": null,
   "metadata": {},
   "outputs": [],
   "source": [
    "import nltk\n",
    "nltk.download('punkt')\n",
    "sentence = \"\"\"At eight o'clock on Thursday morning\n",
    "   Arthur didn't feel very good.\"\"\"\n",
    "tokens = nltk.word_tokenize(sentence)\n",
    "tokens"
   ]
  },
  {
   "cell_type": "markdown",
   "metadata": {},
   "source": [
    "### Adding a new library\n",
    "\n",
    "You will need to add the library locally to enable it. This involves 3 steps:\n",
    "1. Go back to the Jupyter homepage and open up a terminal\n",
    "![new terminal](https://i.imgur.com/n3wEMfk.png)\n",
    "1. Type a command to add the library locally\n",
    "![install terminal](https://i.imgur.com/B0Yh9Yc.png)\n",
    "1. Restart your active notebook kernel to reflect the changes and re-run your notebook (Kernel -> Restart & Run All)\n"
   ]
  },
  {
   "cell_type": "markdown",
   "metadata": {},
   "source": [
    "## [Adv] Exercise 4: UNIX tools\n",
    "\n",
    "\n",
    "Using the bash terminal above, we will be doing a small review of some basic data cleaning operations.\n",
    "For this exercise, we provided you some example data about airline ontime performance from the [US Bureau of Transportation Statistics](https://transtats.bts.gov/ONTIME/).\n",
    "\n",
    "1. Firstly download the zip file **airlinesdata.zip** in Canvas and upload it using the Jupyter homepage.\n",
    "1. Then use the bash prompt used above to navigate to the folder and unzip the archive. You should have some csv files\n",
    "1. Use *cat* or *less* to inspect the csv files. Note that all the files have the same header and same number of information lines\n",
    "1. We want to create a single file which aggregates all the information lines but contains one header line, how would you approach this ? (hint, you can use loops, a combination of head/tail, or awk)\n",
    "1. Sort the collated file by the _TailNum_ column. Is there any _TailNum_ used more than once in the data?\n",
    "1. From the collated file, we want to extract all lines with \"LAX\".\n",
    "1. Extend your previous answer: We also need the header line, how would you approach this ? (hint, you can use loops, grep, head/tail)\n",
    "1. Next, extract just the distance values from the collated airline data. Which flight has flown the longest distance? (hint: check the sort command for options on the sort order, as text is sorted differently than numbers)\n",
    "1. Check: Are there any negative departure delay values (_DepDelay_) in the dataset?\n",
    "1. Which unique _Origin_ airport codes are used in the data?\n",
    "1. Some lines contain some special characters in the _TailNum_ which we need to clean out. Produce a cleaned collated file without those characters.\n",
    "\n",
    "In case you know awk from last year or scripts with loops:\n",
    "1. Now if we inspect the data, you can see an arrival time and an arrival delay time. Use this information to find the scheduled arrival time and add that information for all lines involving \"LAX\" (hint, you will need to use loops and an echo)\n",
    "1.  Use the arrival delay time to find the total arrival delay time and the average arrival delay time for all lines involving \"LAX\" (hint, you will need to use loops and a counter)\n"
   ]
  },
  {
   "cell_type": "code",
   "execution_count": null,
   "metadata": {
    "collapsed": true
   },
   "outputs": [],
   "source": []
  }
 ],
 "metadata": {
  "kernelspec": {
   "display_name": "Python 3",
   "language": "python",
   "name": "python3"
  },
  "language_info": {
   "codemirror_mode": {
    "name": "ipython",
    "version": 3
   },
   "file_extension": ".py",
   "mimetype": "text/x-python",
   "name": "python",
   "nbconvert_exporter": "python",
   "pygments_lexer": "ipython3",
   "version": "3.7.3"
  }
 },
 "nbformat": 4,
 "nbformat_minor": 1
}
